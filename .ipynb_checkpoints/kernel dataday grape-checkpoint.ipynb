{
 "cells": [
  {
   "cell_type": "code",
   "execution_count": 1,
   "metadata": {
    "_cell_guid": "b1076dfc-b9ad-4769-8c92-a6c4dae69d19",
    "_uuid": "8f2839f25d086af736a60e9eeb907d3b93b6e0e5"
   },
   "outputs": [
    {
     "name": "stdout",
     "output_type": "stream",
     "text": [
      "/kaggle/input/dataday-grape/BBDD_Datathon_Valladolid.tab\n"
     ]
    }
   ],
   "source": [
    "import numpy as np \n",
    "import pandas as pd \n",
    "\n",
    "import gc\n",
    "gc.enable()\n",
    "\n",
    "import matplotlib as plt\n",
    "import seaborn as sns\n",
    "import os\n"
   ]
  },
  {
   "cell_type": "code",
   "execution_count": 2,
   "metadata": {
    "_cell_guid": "79c7e3d0-c299-4dcb-8224-4455121ee9b0",
    "_uuid": "d629ff2d2480ee46fbb7e2d37f6b5fab8052498a"
   },
   "outputs": [
    {
     "name": "stderr",
     "output_type": "stream",
     "text": [
      "/opt/conda/lib/python3.6/site-packages/IPython/core/interactiveshell.py:3058: DtypeWarning: Columns (2,3,4,6,7,10,11,12,13,14,15,16,17,18,19,20,21,22,23,24,25,26,27,28,29,30,31,32,33,34,35,36,37,38,39,40,41,42,43,44,45,46,47,48,49,50,51,52,53,54,60,61,62,63,64,65,66,72,121,122,123,143,144,152,153) have mixed types. Specify dtype option on import or set low_memory=False.\n",
      "  interactivity=interactivity, compiler=compiler, result=result)\n"
     ]
    }
   ],
   "source": [
    "data = pd.read_csv('dataday-grape/BBDD_Datathon_Valladolid.tab', sep='\\t')"
   ]
  },
  {
   "cell_type": "code",
   "execution_count": 3,
   "metadata": {},
   "outputs": [],
   "source": [
    "data = data.replace('$null$', np.nan)"
   ]
  },
  {
   "cell_type": "code",
   "execution_count": 4,
   "metadata": {},
   "outputs": [
    {
     "data": {
      "text/plain": [
       "(1905867, 156)"
      ]
     },
     "execution_count": 4,
     "metadata": {},
     "output_type": "execute_result"
    }
   ],
   "source": [
    "data.shape"
   ]
  },
  {
   "cell_type": "code",
   "execution_count": 5,
   "metadata": {},
   "outputs": [
    {
     "data": {
      "text/html": [
       "<div>\n",
       "<style scoped>\n",
       "    .dataframe tbody tr th:only-of-type {\n",
       "        vertical-align: middle;\n",
       "    }\n",
       "\n",
       "    .dataframe tbody tr th {\n",
       "        vertical-align: top;\n",
       "    }\n",
       "\n",
       "    .dataframe thead th {\n",
       "        text-align: right;\n",
       "    }\n",
       "</style>\n",
       "<table border=\"1\" class=\"dataframe\">\n",
       "  <thead>\n",
       "    <tr style=\"text-align: right;\">\n",
       "      <th></th>\n",
       "      <th>fec_cons_1960_1969_edif</th>\n",
       "      <th>cartodb_id</th>\n",
       "      <th>codigo_delegacion_meh</th>\n",
       "      <th>codigo_municipio_dgc</th>\n",
       "      <th>sc_17</th>\n",
       "      <th>n_viv_inm</th>\n",
       "      <th>p_t</th>\n",
       "      <th>hog</th>\n",
       "      <th>p_t_viv</th>\n",
       "      <th>hog_viv</th>\n",
       "      <th>...</th>\n",
       "      <th>sup_viv_51_75m_inm</th>\n",
       "      <th>sup_viv_76_100m_inm</th>\n",
       "      <th>sup_viv_101_150m_inm</th>\n",
       "      <th>sup_viv_151_200m_inm</th>\n",
       "      <th>sup_viv_201m_inm</th>\n",
       "      <th>planta_max</th>\n",
       "      <th>n_viv_unif_inm</th>\n",
       "      <th>n_viv_linea_cons_tipol</th>\n",
       "      <th>segment</th>\n",
       "      <th>Robo?1/0</th>\n",
       "    </tr>\n",
       "  </thead>\n",
       "  <tbody>\n",
       "    <tr>\n",
       "      <td>0</td>\n",
       "      <td>NaN</td>\n",
       "      <td>5368340</td>\n",
       "      <td>30</td>\n",
       "      <td>45</td>\n",
       "      <td>3090201003</td>\n",
       "      <td>10.0</td>\n",
       "      <td>3.842</td>\n",
       "      <td>2.278</td>\n",
       "      <td>0.384</td>\n",
       "      <td>0.228</td>\n",
       "      <td>...</td>\n",
       "      <td>9</td>\n",
       "      <td>1</td>\n",
       "      <td>NaN</td>\n",
       "      <td>NaN</td>\n",
       "      <td>NaN</td>\n",
       "      <td>2</td>\n",
       "      <td>0</td>\n",
       "      <td>0</td>\n",
       "      <td>NaN</td>\n",
       "      <td>0</td>\n",
       "    </tr>\n",
       "    <tr>\n",
       "      <td>1</td>\n",
       "      <td>1</td>\n",
       "      <td>5368343</td>\n",
       "      <td>30</td>\n",
       "      <td>45</td>\n",
       "      <td>3090201003</td>\n",
       "      <td>2.0</td>\n",
       "      <td>0.768</td>\n",
       "      <td>0.456</td>\n",
       "      <td>0.384</td>\n",
       "      <td>0.228</td>\n",
       "      <td>...</td>\n",
       "      <td>NaN</td>\n",
       "      <td>1</td>\n",
       "      <td>1</td>\n",
       "      <td>NaN</td>\n",
       "      <td>NaN</td>\n",
       "      <td>1</td>\n",
       "      <td>0</td>\n",
       "      <td>0</td>\n",
       "      <td>NaN</td>\n",
       "      <td>0</td>\n",
       "    </tr>\n",
       "    <tr>\n",
       "      <td>2</td>\n",
       "      <td>NaN</td>\n",
       "      <td>5368345</td>\n",
       "      <td>30</td>\n",
       "      <td>45</td>\n",
       "      <td>3090201003</td>\n",
       "      <td>1.0</td>\n",
       "      <td>0.384</td>\n",
       "      <td>0.228</td>\n",
       "      <td>0.384</td>\n",
       "      <td>0.228</td>\n",
       "      <td>...</td>\n",
       "      <td>NaN</td>\n",
       "      <td>NaN</td>\n",
       "      <td>NaN</td>\n",
       "      <td>1</td>\n",
       "      <td>NaN</td>\n",
       "      <td>1</td>\n",
       "      <td>1</td>\n",
       "      <td>0</td>\n",
       "      <td>NaN</td>\n",
       "      <td>0</td>\n",
       "    </tr>\n",
       "    <tr>\n",
       "      <td>3</td>\n",
       "      <td>NaN</td>\n",
       "      <td>5368346</td>\n",
       "      <td>30</td>\n",
       "      <td>45</td>\n",
       "      <td>3090201003</td>\n",
       "      <td>4.0</td>\n",
       "      <td>1.537</td>\n",
       "      <td>0.911</td>\n",
       "      <td>0.384</td>\n",
       "      <td>0.228</td>\n",
       "      <td>...</td>\n",
       "      <td>4</td>\n",
       "      <td>NaN</td>\n",
       "      <td>NaN</td>\n",
       "      <td>NaN</td>\n",
       "      <td>NaN</td>\n",
       "      <td>1</td>\n",
       "      <td>0</td>\n",
       "      <td>0</td>\n",
       "      <td>NaN</td>\n",
       "      <td>0</td>\n",
       "    </tr>\n",
       "    <tr>\n",
       "      <td>4</td>\n",
       "      <td>1</td>\n",
       "      <td>5368347</td>\n",
       "      <td>30</td>\n",
       "      <td>45</td>\n",
       "      <td>3090201003</td>\n",
       "      <td>1.0</td>\n",
       "      <td>0.384</td>\n",
       "      <td>0.228</td>\n",
       "      <td>0.384</td>\n",
       "      <td>0.228</td>\n",
       "      <td>...</td>\n",
       "      <td>NaN</td>\n",
       "      <td>NaN</td>\n",
       "      <td>1</td>\n",
       "      <td>NaN</td>\n",
       "      <td>NaN</td>\n",
       "      <td>2</td>\n",
       "      <td>1</td>\n",
       "      <td>0</td>\n",
       "      <td>NaN</td>\n",
       "      <td>0</td>\n",
       "    </tr>\n",
       "  </tbody>\n",
       "</table>\n",
       "<p>5 rows × 156 columns</p>\n",
       "</div>"
      ],
      "text/plain": [
       "  fec_cons_1960_1969_edif  cartodb_id codigo_delegacion_meh  \\\n",
       "0                     NaN     5368340                    30   \n",
       "1                       1     5368343                    30   \n",
       "2                     NaN     5368345                    30   \n",
       "3                     NaN     5368346                    30   \n",
       "4                       1     5368347                    30   \n",
       "\n",
       "  codigo_municipio_dgc       sc_17  n_viv_inm    p_t    hog  p_t_viv  hog_viv  \\\n",
       "0                   45  3090201003       10.0  3.842  2.278    0.384    0.228   \n",
       "1                   45  3090201003        2.0  0.768  0.456    0.384    0.228   \n",
       "2                   45  3090201003        1.0  0.384  0.228    0.384    0.228   \n",
       "3                   45  3090201003        4.0  1.537  0.911    0.384    0.228   \n",
       "4                   45  3090201003        1.0  0.384  0.228    0.384    0.228   \n",
       "\n",
       "   ... sup_viv_51_75m_inm sup_viv_76_100m_inm sup_viv_101_150m_inm  \\\n",
       "0  ...                  9                   1                  NaN   \n",
       "1  ...                NaN                   1                    1   \n",
       "2  ...                NaN                 NaN                  NaN   \n",
       "3  ...                  4                 NaN                  NaN   \n",
       "4  ...                NaN                 NaN                    1   \n",
       "\n",
       "  sup_viv_151_200m_inm sup_viv_201m_inm planta_max n_viv_unif_inm  \\\n",
       "0                  NaN              NaN          2              0   \n",
       "1                  NaN              NaN          1              0   \n",
       "2                    1              NaN          1              1   \n",
       "3                  NaN              NaN          1              0   \n",
       "4                  NaN              NaN          2              1   \n",
       "\n",
       "  n_viv_linea_cons_tipol segment Robo?1/0  \n",
       "0                      0     NaN        0  \n",
       "1                      0     NaN        0  \n",
       "2                      0     NaN        0  \n",
       "3                      0     NaN        0  \n",
       "4                      0     NaN        0  \n",
       "\n",
       "[5 rows x 156 columns]"
      ]
     },
     "execution_count": 5,
     "metadata": {},
     "output_type": "execute_result"
    }
   ],
   "source": [
    "data.head()"
   ]
  },
  {
   "cell_type": "code",
   "execution_count": 6,
   "metadata": {},
   "outputs": [
    {
     "name": "stdout",
     "output_type": "stream",
     "text": [
      "<class 'pandas.core.frame.DataFrame'>\n",
      "RangeIndex: 1905867 entries, 0 to 1905866\n",
      "Columns: 156 entries, fec_cons_1960_1969_edif to Robo?1/0\n",
      "dtypes: float64(14), int64(2), object(140)\n",
      "memory usage: 2.2+ GB\n"
     ]
    }
   ],
   "source": [
    "data.info()"
   ]
  },
  {
   "cell_type": "markdown",
   "metadata": {},
   "source": [
    "### Remove bad_columns\n",
    "- correlation with target \\< abs(0.2)\n",
    "- at least 1000000 NaNs\n",
    "\n",
    "**exceptions:**\n",
    "\n",
    "good correlation vs target using fillna(-999)\n",
    "\n",
    "```\n",
    "external_id 0.4266566852616442\n",
    "n_loc_cal_4 0.24976289406070667\n",
    "n_com_inm 0.3083119602434834\n",
    "Robo?1/0 1.0\n",
    "\n",
    "```\n",
    "\n",
    "**segment = leak**"
   ]
  },
  {
   "cell_type": "code",
   "execution_count": 10,
   "metadata": {},
   "outputs": [],
   "source": [
    "bad_columns = ['fec_cons_2020_2029_edif',\n",
    " 'sup_loc_resto_cons_tipol',\n",
    " 'fec_ant_2020_2029_cons',\n",
    " 'n_loc_ofi_cons_tipol',\n",
    " 'sup_loc_ofi_cons_tipol',\n",
    " 'n_loc_com_cons_tipol',\n",
    " 'sup_loc_com_cons_tipol',\n",
    " 'n_loc_ind_cons_tipol',\n",
    " 'sup_loc_ind_cons_tipol',\n",
    " 'n_loc_resto_cons_tipol',\n",
    " 'fec_cons_2020_2029_inm',\n",
    " 'segment',\n",
    " 'fec_cons_1960_1969_edif',\n",
    " 'fec_cons_0000_1899_edif',\n",
    " 'fec_cons_1900_1939_edif',\n",
    " 'fec_cons_1940_1959_edif',\n",
    " 'fec_cons_1970_1979_edif',\n",
    " 'fec_cons_1980_1989_edif',\n",
    " 'fec_cons_1990_1999_edif',\n",
    " 'fec_cons_2000_2009_edif',\n",
    " 'fec_cons_2010_2019_edif',\n",
    " 'fec_ant_0000_1899_cons',\n",
    " 'fec_ant_1900_1939_cons',\n",
    " 'fec_ant_1940_1959_cons',\n",
    " 'fec_ant_1960_1969_cons',\n",
    " 'fec_ant_1970_1979_cons',\n",
    " 'fec_ant_1980_1989_cons',\n",
    " 'fec_ant_1990_1999_cons',\n",
    " 'fec_ant_2000_2009_cons',\n",
    " 'fec_ant_2010_2019_cons',\n",
    " 'n_loc_ofi_cons',\n",
    " 'sup_loc_ofi_cons',\n",
    " 'n_loc_com_cons',\n",
    " 'sup_loc_cons',\n",
    " 'n_loc_ind_cons',\n",
    " 'sup_loc_ind_cons',\n",
    " 'n_viv_unif_cons_tipol',\n",
    " 'n_loc_cal_1',\n",
    " 'n_loc_cal_2',\n",
    " 'n_loc_cal_3',\n",
    " 'n_loc_cal_5',\n",
    " 'n_loc_cal_6',\n",
    " 'n_loc_cal_7',\n",
    " 'n_loc_cal_8',\n",
    " 'n_loc_cal_9',\n",
    " 'n_loc_cal_abc',\n",
    " 'fec_cons_0000_1899_inm',\n",
    " 'fec_cons_1900_1939_inm',\n",
    " 'fec_cons_1940_1959_inm',\n",
    " 'fec_cons_1960_1969_inm',\n",
    " 'fec_cons_1970_1979_inm',\n",
    " 'fec_cons_1980_1989_inm',\n",
    " 'fec_cons_1990_1999_inm',\n",
    " 'fec_cons_2000_2009_inm',\n",
    " 'fec_cons_2010_2019_inm',\n",
    " 'n_ofi_inm',\n",
    " 'sup_ofi_inm',\n",
    " 'sup_com_inm',\n",
    " 'n_ind_inm',\n",
    " 'sup_ind_inm',\n",
    " 'n_resto_inm',\n",
    " 'sup_resto_inm',\n",
    " 'sup_viv_50m_inm',\n",
    " 'sup_viv_51_75m_inm',\n",
    " 'sup_viv_76_100m_inm',\n",
    " 'sup_viv_101_150m_inm',\n",
    " 'sup_viv_151_200m_inm',\n",
    " 'sup_viv_201m_inm'\n",
    "]"
   ]
  },
  {
   "cell_type": "code",
   "execution_count": 12,
   "metadata": {},
   "outputs": [
    {
     "data": {
      "text/plain": [
       "68"
      ]
     },
     "execution_count": 12,
     "metadata": {},
     "output_type": "execute_result"
    }
   ],
   "source": [
    "len (bad_columns)"
   ]
  },
  {
   "cell_type": "code",
   "execution_count": 13,
   "metadata": {},
   "outputs": [
    {
     "data": {
      "text/plain": [
       "(1905867, 88)"
      ]
     },
     "execution_count": 13,
     "metadata": {},
     "output_type": "execute_result"
    }
   ],
   "source": [
    "data = data.drop(bad_columns, axis=1)\n",
    "data.shape"
   ]
  },
  {
   "cell_type": "code",
   "execution_count": 14,
   "metadata": {},
   "outputs": [
    {
     "data": {
      "text/html": [
       "<div>\n",
       "<style scoped>\n",
       "    .dataframe tbody tr th:only-of-type {\n",
       "        vertical-align: middle;\n",
       "    }\n",
       "\n",
       "    .dataframe tbody tr th {\n",
       "        vertical-align: top;\n",
       "    }\n",
       "\n",
       "    .dataframe thead th {\n",
       "        text-align: right;\n",
       "    }\n",
       "</style>\n",
       "<table border=\"1\" class=\"dataframe\">\n",
       "  <thead>\n",
       "    <tr style=\"text-align: right;\">\n",
       "      <th></th>\n",
       "      <th>cartodb_id</th>\n",
       "      <th>codigo_delegacion_meh</th>\n",
       "      <th>codigo_municipio_dgc</th>\n",
       "      <th>sc_17</th>\n",
       "      <th>n_viv_inm</th>\n",
       "      <th>p_t</th>\n",
       "      <th>hog</th>\n",
       "      <th>p_t_viv</th>\n",
       "      <th>hog_viv</th>\n",
       "      <th>p_ed_00_04_h</th>\n",
       "      <th>...</th>\n",
       "      <th>anyo_antiguedad_inm_min</th>\n",
       "      <th>anyo_antiguedad_inm_max</th>\n",
       "      <th>sup_viv_inm</th>\n",
       "      <th>n_com_inm</th>\n",
       "      <th>superficie_construida_m2_inm</th>\n",
       "      <th>superficie_asociada_m2_inm</th>\n",
       "      <th>planta_max</th>\n",
       "      <th>n_viv_unif_inm</th>\n",
       "      <th>n_viv_linea_cons_tipol</th>\n",
       "      <th>Robo?1/0</th>\n",
       "    </tr>\n",
       "  </thead>\n",
       "  <tbody>\n",
       "    <tr>\n",
       "      <td>0</td>\n",
       "      <td>5368340</td>\n",
       "      <td>30</td>\n",
       "      <td>45</td>\n",
       "      <td>3090201003</td>\n",
       "      <td>10.0</td>\n",
       "      <td>3.842</td>\n",
       "      <td>2.278</td>\n",
       "      <td>0.384</td>\n",
       "      <td>0.228</td>\n",
       "      <td>0.175</td>\n",
       "      <td>...</td>\n",
       "      <td>1993</td>\n",
       "      <td>1993</td>\n",
       "      <td>705</td>\n",
       "      <td>NaN</td>\n",
       "      <td>705</td>\n",
       "      <td>8070</td>\n",
       "      <td>2</td>\n",
       "      <td>0</td>\n",
       "      <td>0</td>\n",
       "      <td>0</td>\n",
       "    </tr>\n",
       "    <tr>\n",
       "      <td>1</td>\n",
       "      <td>5368343</td>\n",
       "      <td>30</td>\n",
       "      <td>45</td>\n",
       "      <td>3090201003</td>\n",
       "      <td>2.0</td>\n",
       "      <td>0.768</td>\n",
       "      <td>0.456</td>\n",
       "      <td>0.384</td>\n",
       "      <td>0.228</td>\n",
       "      <td>0.035</td>\n",
       "      <td>...</td>\n",
       "      <td>1967</td>\n",
       "      <td>1967</td>\n",
       "      <td>190</td>\n",
       "      <td>NaN</td>\n",
       "      <td>190</td>\n",
       "      <td>232</td>\n",
       "      <td>1</td>\n",
       "      <td>0</td>\n",
       "      <td>0</td>\n",
       "      <td>0</td>\n",
       "    </tr>\n",
       "    <tr>\n",
       "      <td>2</td>\n",
       "      <td>5368345</td>\n",
       "      <td>30</td>\n",
       "      <td>45</td>\n",
       "      <td>3090201003</td>\n",
       "      <td>1.0</td>\n",
       "      <td>0.384</td>\n",
       "      <td>0.228</td>\n",
       "      <td>0.384</td>\n",
       "      <td>0.228</td>\n",
       "      <td>0.018</td>\n",
       "      <td>...</td>\n",
       "      <td>1972</td>\n",
       "      <td>1972</td>\n",
       "      <td>156</td>\n",
       "      <td>NaN</td>\n",
       "      <td>156</td>\n",
       "      <td>85</td>\n",
       "      <td>1</td>\n",
       "      <td>1</td>\n",
       "      <td>0</td>\n",
       "      <td>0</td>\n",
       "    </tr>\n",
       "    <tr>\n",
       "      <td>3</td>\n",
       "      <td>5368346</td>\n",
       "      <td>30</td>\n",
       "      <td>45</td>\n",
       "      <td>3090201003</td>\n",
       "      <td>4.0</td>\n",
       "      <td>1.537</td>\n",
       "      <td>0.911</td>\n",
       "      <td>0.384</td>\n",
       "      <td>0.228</td>\n",
       "      <td>0.070</td>\n",
       "      <td>...</td>\n",
       "      <td>1982</td>\n",
       "      <td>1982</td>\n",
       "      <td>250</td>\n",
       "      <td>NaN</td>\n",
       "      <td>250</td>\n",
       "      <td>708</td>\n",
       "      <td>1</td>\n",
       "      <td>0</td>\n",
       "      <td>0</td>\n",
       "      <td>0</td>\n",
       "    </tr>\n",
       "    <tr>\n",
       "      <td>4</td>\n",
       "      <td>5368347</td>\n",
       "      <td>30</td>\n",
       "      <td>45</td>\n",
       "      <td>3090201003</td>\n",
       "      <td>1.0</td>\n",
       "      <td>0.384</td>\n",
       "      <td>0.228</td>\n",
       "      <td>0.384</td>\n",
       "      <td>0.228</td>\n",
       "      <td>0.018</td>\n",
       "      <td>...</td>\n",
       "      <td>1962</td>\n",
       "      <td>1962</td>\n",
       "      <td>143</td>\n",
       "      <td>NaN</td>\n",
       "      <td>143</td>\n",
       "      <td>52</td>\n",
       "      <td>2</td>\n",
       "      <td>1</td>\n",
       "      <td>0</td>\n",
       "      <td>0</td>\n",
       "    </tr>\n",
       "  </tbody>\n",
       "</table>\n",
       "<p>5 rows × 88 columns</p>\n",
       "</div>"
      ],
      "text/plain": [
       "   cartodb_id codigo_delegacion_meh codigo_municipio_dgc       sc_17  \\\n",
       "0     5368340                    30                   45  3090201003   \n",
       "1     5368343                    30                   45  3090201003   \n",
       "2     5368345                    30                   45  3090201003   \n",
       "3     5368346                    30                   45  3090201003   \n",
       "4     5368347                    30                   45  3090201003   \n",
       "\n",
       "   n_viv_inm    p_t    hog  p_t_viv  hog_viv p_ed_00_04_h  ...  \\\n",
       "0       10.0  3.842  2.278    0.384    0.228        0.175  ...   \n",
       "1        2.0  0.768  0.456    0.384    0.228        0.035  ...   \n",
       "2        1.0  0.384  0.228    0.384    0.228        0.018  ...   \n",
       "3        4.0  1.537  0.911    0.384    0.228        0.070  ...   \n",
       "4        1.0  0.384  0.228    0.384    0.228        0.018  ...   \n",
       "\n",
       "  anyo_antiguedad_inm_min anyo_antiguedad_inm_max sup_viv_inm n_com_inm  \\\n",
       "0                    1993                    1993         705       NaN   \n",
       "1                    1967                    1967         190       NaN   \n",
       "2                    1972                    1972         156       NaN   \n",
       "3                    1982                    1982         250       NaN   \n",
       "4                    1962                    1962         143       NaN   \n",
       "\n",
       "  superficie_construida_m2_inm superficie_asociada_m2_inm planta_max  \\\n",
       "0                          705                       8070          2   \n",
       "1                          190                        232          1   \n",
       "2                          156                         85          1   \n",
       "3                          250                        708          1   \n",
       "4                          143                         52          2   \n",
       "\n",
       "  n_viv_unif_inm n_viv_linea_cons_tipol Robo?1/0  \n",
       "0              0                      0        0  \n",
       "1              0                      0        0  \n",
       "2              1                      0        0  \n",
       "3              0                      0        0  \n",
       "4              1                      0        0  \n",
       "\n",
       "[5 rows x 88 columns]"
      ]
     },
     "execution_count": 14,
     "metadata": {},
     "output_type": "execute_result"
    }
   ],
   "source": [
    "data.head()"
   ]
  },
  {
   "cell_type": "markdown",
   "metadata": {},
   "source": [
    "### Missing data PART II"
   ]
  },
  {
   "cell_type": "code",
   "execution_count": 16,
   "metadata": {},
   "outputs": [
    {
     "data": {
      "text/plain": [
       "cartodb_id                    0\n",
       "codigo_delegacion_meh     63569\n",
       "codigo_municipio_dgc      63569\n",
       "sc_17                     63569\n",
       "n_viv_inm                     0\n",
       "p_t                      634160\n",
       "hog                      634160\n",
       "p_t_viv                       0\n",
       "hog_viv                       0\n",
       "p_ed_00_04_h             634160\n",
       "dtype: int64"
      ]
     },
     "execution_count": 16,
     "metadata": {},
     "output_type": "execute_result"
    }
   ],
   "source": [
    "# get the number of missing data points per column\n",
    "missing_values_count = data.isnull().sum()\n",
    "\n",
    "# look at the # of missing points in the first ten columns\n",
    "missing_values_count[0:10]"
   ]
  },
  {
   "cell_type": "code",
   "execution_count": 17,
   "metadata": {},
   "outputs": [
    {
     "data": {
      "text/plain": [
       "19.86579706005432"
      ]
     },
     "execution_count": 17,
     "metadata": {},
     "output_type": "execute_result"
    }
   ],
   "source": [
    "# how many total missing values do we have?\n",
    "total_cells = np.product(data.shape)\n",
    "total_missing = missing_values_count.sum()\n",
    "\n",
    "# percent of data that is missing\n",
    "(total_missing/total_cells) * 100"
   ]
  },
  {
   "cell_type": "markdown",
   "metadata": {},
   "source": [
    "### Unique values"
   ]
  },
  {
   "cell_type": "code",
   "execution_count": 18,
   "metadata": {},
   "outputs": [
    {
     "name": "stdout",
     "output_type": "stream",
     "text": [
      "n_viv_unif_inm ['0' '1' nan 0 1]\n",
      "n_viv_linea_cons_tipol ['0' nan '1' 0 1]\n",
      "Robo?1/0 [0 1]\n"
     ]
    }
   ],
   "source": [
    "for col in data.columns:\n",
    "    if data[col].nunique() < 10:\n",
    "        print (col, data[col].unique())\n"
   ]
  },
  {
   "cell_type": "markdown",
   "metadata": {},
   "source": [
    "Now I fix the types, \n",
    "```\n",
    "n_viv_unif_inm ['0' '1' nan 0 1]\n",
    "```\n",
    "should be\n",
    "```\n",
    "n_viv_unif_inm [nan 0 1]\n",
    "```"
   ]
  },
  {
   "cell_type": "code",
   "execution_count": 20,
   "metadata": {
    "_kg_hide-input": false
   },
   "outputs": [],
   "source": [
    "def reduce_mem_usage(df, verbose=True):\n",
    "    numerics = ['int16', 'int32', 'int64', 'float16', 'float32', 'float64']\n",
    "    start_mem = df.memory_usage().sum() / 1024**2    \n",
    "    print ('Start memory: ',start_mem)\n",
    "    \n",
    "    for col in df.columns:\n",
    "        col_type = df[col].dtypes\n",
    "        if col_type == 'object':\n",
    "            print (col)\n",
    "            try:\n",
    "                df[col] = pd.to_numeric(df[col])\n",
    "            except:\n",
    "                pass #keep string\n",
    "            \n",
    "        col_type = df[col].dtypes\n",
    "        if col_type in numerics:\n",
    "            c_min = df[col].min()\n",
    "            c_max = df[col].max()\n",
    "            if str(col_type)[:3] == 'int':\n",
    "                if c_min > np.iinfo(np.int8).min and c_max < np.iinfo(np.int8).max:\n",
    "                    df[col] = df[col].astype(np.int8)\n",
    "                elif c_min > np.iinfo(np.int16).min and c_max < np.iinfo(np.int16).max:\n",
    "                    df[col] = df[col].astype(np.int16)\n",
    "                elif c_min > np.iinfo(np.int32).min and c_max < np.iinfo(np.int32).max:\n",
    "                    df[col] = df[col].astype(np.int32)\n",
    "                elif c_min > np.iinfo(np.int64).min and c_max < np.iinfo(np.int64).max:\n",
    "                    df[col] = df[col].astype(np.int64)  \n",
    "            else:\n",
    "                if c_min > np.finfo(np.float16).min and c_max < np.finfo(np.float16).max:\n",
    "                    df[col] = df[col].astype(np.float16)\n",
    "                elif c_min > np.finfo(np.float32).min and c_max < np.finfo(np.float32).max:\n",
    "                    df[col] = df[col].astype(np.float32)\n",
    "                else:\n",
    "                    df[col] = df[col].astype(np.float64)    \n",
    "    end_mem = df.memory_usage().sum() / 1024**2\n",
    "    if verbose: print('Mem. usage decreased to {:5.2f} Mb ({:.1f}% reduction)'.format(end_mem, 100 * (start_mem - end_mem) / start_mem))\n",
    "    return df\n"
   ]
  },
  {
   "cell_type": "code",
   "execution_count": 21,
   "metadata": {
    "_kg_hide-output": true,
    "collapsed": true
   },
   "outputs": [
    {
     "name": "stdout",
     "output_type": "stream",
     "text": [
      "Start memory:  1279.5739135742188\n",
      "codigo_delegacion_meh\n",
      "codigo_municipio_dgc\n",
      "sc_17\n",
      "p_t\n",
      "hog\n",
      "p_ed_00_04_h\n",
      "p_ed_00_04_m\n",
      "p_ed_00_14_h\n",
      "p_ed_15_24_h\n",
      "p_ed_25_44_h\n",
      "p_ed_45_64_h\n",
      "p_ed_65_79_h\n",
      "p_ed_80_mas_h\n",
      "p_ed_00_14_m\n",
      "p_ed_15_24_m\n",
      "p_ed_25_44_m\n",
      "p_ed_45_64_m\n",
      "p_ed_65_79_m\n",
      "p_ed_80_mas_m\n",
      "extr_nac\n",
      "ue_28_nor\n",
      "euro_ric\n",
      "inm_pobr\n",
      "c02_01_gasto_m_alimentacion_m\n",
      "c02_02_gasto_m_bebidas_m\n",
      "c02_03_gasto_m_textil_m\n",
      "c02_04_gasto_m_vivienda_m\n",
      "c02_05_gasto_m_muebles_m\n",
      "c02_06_gasto_m_salud_m\n",
      "c02_07_gasto_m_transporte_m\n",
      "c02_08_gasto_m_comunicaciones_m\n",
      "c02_09_gasto_m_ocio_m\n",
      "c02_10_gasto_m_ensena_m\n",
      "c02_11_gasto_m_horeca_m\n",
      "c02_12_gasto_m_otros_m\n",
      "p_est_4_2_grado_pct_m\n",
      "p_est_5_3_grado_pct_m\n",
      "p_est_resto_pct_m\n",
      "c02_01_gasto_m_alimentacion_t\n",
      "c02_02_gasto_m_bebidas_t\n",
      "c02_03_gasto_m_textil_t\n",
      "c02_04_gasto_m_vivienda_t\n",
      "c02_05_gasto_m_muebles_t\n",
      "c02_06_gasto_m_salud_t\n",
      "c02_07_gasto_m_transporte_t\n",
      "c02_08_gasto_m_comunicaciones_t\n",
      "c02_09_gasto_m_ocio_t\n",
      "c02_10_gasto_m_ensena_t\n",
      "c02_11_gasto_m_horeca_t\n",
      "c02_12_gasto_m_otros_t\n",
      "renta_ind\n",
      "renta_tit_disp\n",
      "renta_hab_disp\n",
      "renta_tit_bruta\n",
      "renta_hog_neta\n",
      "superficie_finca_o_parcela_catastral_m2\n",
      "superficie_construida_total\n",
      "superficie_construida_sobre_rasante\n",
      "superficie_construida_bajo_rasante\n",
      "superficie_cubierta\n",
      "codigo_postal\n",
      "n_unidad_constructiva\n",
      "superficie_suelo_ocupado_edif\n",
      "longitud_fachada_cm_edif\n",
      "external_id\n",
      "superficie_total_efectos_catastro_m2\n",
      "n_loc_viv_cons\n",
      "sup_loc_viv_cons\n",
      "n_loc_resto_cons\n",
      "sup_loc_resto_cons\n",
      "n_loc_viv_cons_tipol\n",
      "sup_loc_viv_cons_tipol\n",
      "n_loc_cal_4\n",
      "n_inmuebles\n",
      "anyo_antiguedad_inm_min\n",
      "anyo_antiguedad_inm_max\n",
      "sup_viv_inm\n",
      "n_com_inm\n",
      "superficie_construida_m2_inm\n",
      "superficie_asociada_m2_inm\n",
      "planta_max\n",
      "n_viv_unif_inm\n",
      "n_viv_linea_cons_tipol\n",
      "Mem. usage decreased to 434.40 Mb (66.1% reduction)\n"
     ]
    }
   ],
   "source": [
    "data = reduce_mem_usage(data, verbose=True)"
   ]
  },
  {
   "cell_type": "code",
   "execution_count": 22,
   "metadata": {},
   "outputs": [
    {
     "name": "stdout",
     "output_type": "stream",
     "text": [
      "n_viv_unif_inm [ 0.  1. nan]\n",
      "n_viv_linea_cons_tipol [ 0. nan  1.]\n",
      "Robo?1/0 [0 1]\n"
     ]
    }
   ],
   "source": [
    "for col in data.columns:\n",
    "    if data[col].nunique() < 10:\n",
    "        print (col, data[col].unique())\n"
   ]
  },
  {
   "cell_type": "code",
   "execution_count": 23,
   "metadata": {},
   "outputs": [],
   "source": [
    "data.rename(columns={\"Robo?1/0\": \"target\"}, inplace=True)"
   ]
  },
  {
   "cell_type": "code",
   "execution_count": 24,
   "metadata": {
    "_kg_hide-input": false,
    "_kg_hide-output": true
   },
   "outputs": [
    {
     "name": "stdout",
     "output_type": "stream",
     "text": [
      "<class 'pandas.core.frame.DataFrame'>\n",
      "RangeIndex: 1905867 entries, 0 to 1905866\n",
      "Data columns (total 88 columns):\n",
      "cartodb_id                                 int32\n",
      "codigo_delegacion_meh                      float16\n",
      "codigo_municipio_dgc                       float16\n",
      "sc_17                                      float32\n",
      "n_viv_inm                                  float16\n",
      "p_t                                        float16\n",
      "hog                                        float16\n",
      "p_t_viv                                    float16\n",
      "hog_viv                                    float16\n",
      "p_ed_00_04_h                               float16\n",
      "p_ed_00_04_m                               float16\n",
      "p_ed_00_14_h                               float16\n",
      "p_ed_15_24_h                               float16\n",
      "p_ed_25_44_h                               float16\n",
      "p_ed_45_64_h                               float16\n",
      "p_ed_65_79_h                               float16\n",
      "p_ed_80_mas_h                              float16\n",
      "p_ed_00_14_m                               float16\n",
      "p_ed_15_24_m                               float16\n",
      "p_ed_25_44_m                               float16\n",
      "p_ed_45_64_m                               float16\n",
      "p_ed_65_79_m                               float16\n",
      "p_ed_80_mas_m                              float16\n",
      "extr_nac                                   float16\n",
      "ue_28_nor                                  float16\n",
      "euro_ric                                   float16\n",
      "inm_pobr                                   float16\n",
      "c02_01_gasto_m_alimentacion_m              float16\n",
      "c02_02_gasto_m_bebidas_m                   float16\n",
      "c02_03_gasto_m_textil_m                    float16\n",
      "c02_04_gasto_m_vivienda_m                  float16\n",
      "c02_05_gasto_m_muebles_m                   float16\n",
      "c02_06_gasto_m_salud_m                     float16\n",
      "c02_07_gasto_m_transporte_m                float16\n",
      "c02_08_gasto_m_comunicaciones_m            float16\n",
      "c02_09_gasto_m_ocio_m                      float16\n",
      "c02_10_gasto_m_ensena_m                    float16\n",
      "c02_11_gasto_m_horeca_m                    float16\n",
      "c02_12_gasto_m_otros_m                     float16\n",
      "p_est_4_2_grado_pct_m                      float16\n",
      "p_est_5_3_grado_pct_m                      float16\n",
      "p_est_resto_pct_m                          float16\n",
      "c02_01_gasto_m_alimentacion_t              float32\n",
      "c02_02_gasto_m_bebidas_t                   float32\n",
      "c02_03_gasto_m_textil_t                    float32\n",
      "c02_04_gasto_m_vivienda_t                  float32\n",
      "c02_05_gasto_m_muebles_t                   float32\n",
      "c02_06_gasto_m_salud_t                     float32\n",
      "c02_07_gasto_m_transporte_t                float32\n",
      "c02_08_gasto_m_comunicaciones_t            float32\n",
      "c02_09_gasto_m_ocio_t                      float32\n",
      "c02_10_gasto_m_ensena_t                    float32\n",
      "c02_11_gasto_m_horeca_t                    float32\n",
      "c02_12_gasto_m_otros_t                     float32\n",
      "renta_ind                                  float16\n",
      "renta_tit_disp                             float32\n",
      "renta_hab_disp                             float16\n",
      "renta_tit_bruta                            float32\n",
      "renta_hog_neta                             float32\n",
      "superficie_finca_o_parcela_catastral_m2    float32\n",
      "superficie_construida_total                float32\n",
      "superficie_construida_sobre_rasante        float32\n",
      "superficie_construida_bajo_rasante         float32\n",
      "superficie_cubierta                        float32\n",
      "codigo_postal                              float16\n",
      "n_unidad_constructiva                      float16\n",
      "superficie_suelo_ocupado_edif              float32\n",
      "longitud_fachada_cm_edif                   float32\n",
      "external_id                                float32\n",
      "superficie_total_efectos_catastro_m2       float32\n",
      "n_loc_viv_cons                             float16\n",
      "sup_loc_viv_cons                           float32\n",
      "n_loc_resto_cons                           float16\n",
      "sup_loc_resto_cons                         float32\n",
      "n_loc_viv_cons_tipol                       float16\n",
      "sup_loc_viv_cons_tipol                     float32\n",
      "n_loc_cal_4                                float16\n",
      "n_inmuebles                                float16\n",
      "anyo_antiguedad_inm_min                    float16\n",
      "anyo_antiguedad_inm_max                    float16\n",
      "sup_viv_inm                                float32\n",
      "n_com_inm                                  float16\n",
      "superficie_construida_m2_inm               float32\n",
      "superficie_asociada_m2_inm                 float32\n",
      "planta_max                                 float16\n",
      "n_viv_unif_inm                             float16\n",
      "n_viv_linea_cons_tipol                     float16\n",
      "target                                     int8\n",
      "dtypes: float16(55), float32(31), int32(1), int8(1)\n",
      "memory usage: 434.4 MB\n"
     ]
    }
   ],
   "source": [
    "data.info()"
   ]
  },
  {
   "cell_type": "code",
   "execution_count": 27,
   "metadata": {},
   "outputs": [
    {
     "name": "stdout",
     "output_type": "stream",
     "text": [
      "(1905867, 88)\n"
     ]
    },
    {
     "data": {
      "text/html": [
       "<div>\n",
       "<style scoped>\n",
       "    .dataframe tbody tr th:only-of-type {\n",
       "        vertical-align: middle;\n",
       "    }\n",
       "\n",
       "    .dataframe tbody tr th {\n",
       "        vertical-align: top;\n",
       "    }\n",
       "\n",
       "    .dataframe thead th {\n",
       "        text-align: right;\n",
       "    }\n",
       "</style>\n",
       "<table border=\"1\" class=\"dataframe\">\n",
       "  <thead>\n",
       "    <tr style=\"text-align: right;\">\n",
       "      <th></th>\n",
       "      <th>cartodb_id</th>\n",
       "      <th>codigo_delegacion_meh</th>\n",
       "      <th>codigo_municipio_dgc</th>\n",
       "      <th>sc_17</th>\n",
       "      <th>n_viv_inm</th>\n",
       "      <th>p_t</th>\n",
       "      <th>hog</th>\n",
       "      <th>p_t_viv</th>\n",
       "      <th>hog_viv</th>\n",
       "      <th>p_ed_00_04_h</th>\n",
       "      <th>...</th>\n",
       "      <th>anyo_antiguedad_inm_min</th>\n",
       "      <th>anyo_antiguedad_inm_max</th>\n",
       "      <th>sup_viv_inm</th>\n",
       "      <th>n_com_inm</th>\n",
       "      <th>superficie_construida_m2_inm</th>\n",
       "      <th>superficie_asociada_m2_inm</th>\n",
       "      <th>planta_max</th>\n",
       "      <th>n_viv_unif_inm</th>\n",
       "      <th>n_viv_linea_cons_tipol</th>\n",
       "      <th>target</th>\n",
       "    </tr>\n",
       "  </thead>\n",
       "  <tbody>\n",
       "    <tr>\n",
       "      <td>0</td>\n",
       "      <td>5368340</td>\n",
       "      <td>30.0</td>\n",
       "      <td>45.0</td>\n",
       "      <td>3.090201e+09</td>\n",
       "      <td>10.0</td>\n",
       "      <td>3.841797</td>\n",
       "      <td>2.277344</td>\n",
       "      <td>0.384033</td>\n",
       "      <td>0.228027</td>\n",
       "      <td>0.175049</td>\n",
       "      <td>...</td>\n",
       "      <td>1993.0</td>\n",
       "      <td>1993.0</td>\n",
       "      <td>705.0</td>\n",
       "      <td>NaN</td>\n",
       "      <td>705.0</td>\n",
       "      <td>8070.0</td>\n",
       "      <td>2.0</td>\n",
       "      <td>0.0</td>\n",
       "      <td>0.0</td>\n",
       "      <td>0</td>\n",
       "    </tr>\n",
       "    <tr>\n",
       "      <td>1</td>\n",
       "      <td>5368343</td>\n",
       "      <td>30.0</td>\n",
       "      <td>45.0</td>\n",
       "      <td>3.090201e+09</td>\n",
       "      <td>2.0</td>\n",
       "      <td>0.768066</td>\n",
       "      <td>0.456055</td>\n",
       "      <td>0.384033</td>\n",
       "      <td>0.228027</td>\n",
       "      <td>0.035004</td>\n",
       "      <td>...</td>\n",
       "      <td>1967.0</td>\n",
       "      <td>1967.0</td>\n",
       "      <td>190.0</td>\n",
       "      <td>NaN</td>\n",
       "      <td>190.0</td>\n",
       "      <td>232.0</td>\n",
       "      <td>1.0</td>\n",
       "      <td>0.0</td>\n",
       "      <td>0.0</td>\n",
       "      <td>0</td>\n",
       "    </tr>\n",
       "    <tr>\n",
       "      <td>2</td>\n",
       "      <td>5368345</td>\n",
       "      <td>30.0</td>\n",
       "      <td>45.0</td>\n",
       "      <td>3.090201e+09</td>\n",
       "      <td>1.0</td>\n",
       "      <td>0.384033</td>\n",
       "      <td>0.228027</td>\n",
       "      <td>0.384033</td>\n",
       "      <td>0.228027</td>\n",
       "      <td>0.018005</td>\n",
       "      <td>...</td>\n",
       "      <td>1972.0</td>\n",
       "      <td>1972.0</td>\n",
       "      <td>156.0</td>\n",
       "      <td>NaN</td>\n",
       "      <td>156.0</td>\n",
       "      <td>85.0</td>\n",
       "      <td>1.0</td>\n",
       "      <td>1.0</td>\n",
       "      <td>0.0</td>\n",
       "      <td>0</td>\n",
       "    </tr>\n",
       "    <tr>\n",
       "      <td>3</td>\n",
       "      <td>5368346</td>\n",
       "      <td>30.0</td>\n",
       "      <td>45.0</td>\n",
       "      <td>3.090201e+09</td>\n",
       "      <td>4.0</td>\n",
       "      <td>1.537109</td>\n",
       "      <td>0.911133</td>\n",
       "      <td>0.384033</td>\n",
       "      <td>0.228027</td>\n",
       "      <td>0.070007</td>\n",
       "      <td>...</td>\n",
       "      <td>1982.0</td>\n",
       "      <td>1982.0</td>\n",
       "      <td>250.0</td>\n",
       "      <td>NaN</td>\n",
       "      <td>250.0</td>\n",
       "      <td>708.0</td>\n",
       "      <td>1.0</td>\n",
       "      <td>0.0</td>\n",
       "      <td>0.0</td>\n",
       "      <td>0</td>\n",
       "    </tr>\n",
       "    <tr>\n",
       "      <td>4</td>\n",
       "      <td>5368347</td>\n",
       "      <td>30.0</td>\n",
       "      <td>45.0</td>\n",
       "      <td>3.090201e+09</td>\n",
       "      <td>1.0</td>\n",
       "      <td>0.384033</td>\n",
       "      <td>0.228027</td>\n",
       "      <td>0.384033</td>\n",
       "      <td>0.228027</td>\n",
       "      <td>0.018005</td>\n",
       "      <td>...</td>\n",
       "      <td>1962.0</td>\n",
       "      <td>1962.0</td>\n",
       "      <td>143.0</td>\n",
       "      <td>NaN</td>\n",
       "      <td>143.0</td>\n",
       "      <td>52.0</td>\n",
       "      <td>2.0</td>\n",
       "      <td>1.0</td>\n",
       "      <td>0.0</td>\n",
       "      <td>0</td>\n",
       "    </tr>\n",
       "  </tbody>\n",
       "</table>\n",
       "<p>5 rows × 88 columns</p>\n",
       "</div>"
      ],
      "text/plain": [
       "   cartodb_id  codigo_delegacion_meh  codigo_municipio_dgc         sc_17  \\\n",
       "0     5368340                   30.0                  45.0  3.090201e+09   \n",
       "1     5368343                   30.0                  45.0  3.090201e+09   \n",
       "2     5368345                   30.0                  45.0  3.090201e+09   \n",
       "3     5368346                   30.0                  45.0  3.090201e+09   \n",
       "4     5368347                   30.0                  45.0  3.090201e+09   \n",
       "\n",
       "   n_viv_inm       p_t       hog   p_t_viv   hog_viv  p_ed_00_04_h  ...  \\\n",
       "0       10.0  3.841797  2.277344  0.384033  0.228027      0.175049  ...   \n",
       "1        2.0  0.768066  0.456055  0.384033  0.228027      0.035004  ...   \n",
       "2        1.0  0.384033  0.228027  0.384033  0.228027      0.018005  ...   \n",
       "3        4.0  1.537109  0.911133  0.384033  0.228027      0.070007  ...   \n",
       "4        1.0  0.384033  0.228027  0.384033  0.228027      0.018005  ...   \n",
       "\n",
       "   anyo_antiguedad_inm_min  anyo_antiguedad_inm_max  sup_viv_inm  n_com_inm  \\\n",
       "0                   1993.0                   1993.0        705.0        NaN   \n",
       "1                   1967.0                   1967.0        190.0        NaN   \n",
       "2                   1972.0                   1972.0        156.0        NaN   \n",
       "3                   1982.0                   1982.0        250.0        NaN   \n",
       "4                   1962.0                   1962.0        143.0        NaN   \n",
       "\n",
       "   superficie_construida_m2_inm  superficie_asociada_m2_inm  planta_max  \\\n",
       "0                         705.0                      8070.0         2.0   \n",
       "1                         190.0                       232.0         1.0   \n",
       "2                         156.0                        85.0         1.0   \n",
       "3                         250.0                       708.0         1.0   \n",
       "4                         143.0                        52.0         2.0   \n",
       "\n",
       "   n_viv_unif_inm  n_viv_linea_cons_tipol  target  \n",
       "0             0.0                     0.0       0  \n",
       "1             0.0                     0.0       0  \n",
       "2             1.0                     0.0       0  \n",
       "3             0.0                     0.0       0  \n",
       "4             1.0                     0.0       0  \n",
       "\n",
       "[5 rows x 88 columns]"
      ]
     },
     "execution_count": 27,
     "metadata": {},
     "output_type": "execute_result"
    }
   ],
   "source": [
    "print (data.shape)\n",
    "data.head()"
   ]
  },
  {
   "cell_type": "code",
   "execution_count": 31,
   "metadata": {},
   "outputs": [],
   "source": [
    "data.fillna(-999, inplace=True)"
   ]
  },
  {
   "cell_type": "code",
   "execution_count": 34,
   "metadata": {},
   "outputs": [],
   "source": [
    "data.corr()"
   ]
  },
  {
   "cell_type": "markdown",
   "metadata": {},
   "source": [
    "# Model"
   ]
  },
  {
   "cell_type": "code",
   "execution_count": 50,
   "metadata": {},
   "outputs": [],
   "source": [
    "y = data['target']"
   ]
  },
  {
   "cell_type": "code",
   "execution_count": 55,
   "metadata": {},
   "outputs": [],
   "source": [
    "from sklearn.model_selection import cross_val_score\n",
    "from sklearn.model_selection import train_test_split\n",
    "from sklearn.metrics import roc_auc_score"
   ]
  },
  {
   "cell_type": "markdown",
   "metadata": {},
   "source": [
    "### Simple holdout"
   ]
  },
  {
   "cell_type": "code",
   "execution_count": 52,
   "metadata": {},
   "outputs": [],
   "source": [
    "X_train, X_test, y_train, y_test = train_test_split(data, y, test_size=0.3, random_state=1, stratify=y)"
   ]
  },
  {
   "cell_type": "code",
   "execution_count": 56,
   "metadata": {
    "_kg_hide-input": true
   },
   "outputs": [
    {
     "name": "stdout",
     "output_type": "stream",
     "text": [
      "(1334106, 88)\n",
      "(571761, 88)\n",
      "(1334106,)\n",
      "(571761,)\n"
     ]
    }
   ],
   "source": [
    "print (X_train.shape)\n",
    "print (X_test.shape)\n",
    "print (y_train.shape)\n",
    "print (y_test.shape)"
   ]
  },
  {
   "cell_type": "code",
   "execution_count": 63,
   "metadata": {},
   "outputs": [
    {
     "data": {
      "text/html": [
       "<div>\n",
       "<style scoped>\n",
       "    .dataframe tbody tr th:only-of-type {\n",
       "        vertical-align: middle;\n",
       "    }\n",
       "\n",
       "    .dataframe tbody tr th {\n",
       "        vertical-align: top;\n",
       "    }\n",
       "\n",
       "    .dataframe thead th {\n",
       "        text-align: right;\n",
       "    }\n",
       "</style>\n",
       "<table border=\"1\" class=\"dataframe\">\n",
       "  <thead>\n",
       "    <tr style=\"text-align: right;\">\n",
       "      <th></th>\n",
       "      <th>cartodb_id</th>\n",
       "      <th>codigo_delegacion_meh</th>\n",
       "      <th>codigo_municipio_dgc</th>\n",
       "      <th>sc_17</th>\n",
       "      <th>n_viv_inm</th>\n",
       "      <th>p_t</th>\n",
       "      <th>hog</th>\n",
       "      <th>p_t_viv</th>\n",
       "      <th>hog_viv</th>\n",
       "      <th>p_ed_00_04_h</th>\n",
       "      <th>...</th>\n",
       "      <th>anyo_antiguedad_inm_min</th>\n",
       "      <th>anyo_antiguedad_inm_max</th>\n",
       "      <th>sup_viv_inm</th>\n",
       "      <th>n_com_inm</th>\n",
       "      <th>superficie_construida_m2_inm</th>\n",
       "      <th>superficie_asociada_m2_inm</th>\n",
       "      <th>planta_max</th>\n",
       "      <th>n_viv_unif_inm</th>\n",
       "      <th>n_viv_linea_cons_tipol</th>\n",
       "      <th>target</th>\n",
       "    </tr>\n",
       "  </thead>\n",
       "  <tbody>\n",
       "    <tr>\n",
       "      <td>722596</td>\n",
       "      <td>6994266</td>\n",
       "      <td>29.0</td>\n",
       "      <td>94.0</td>\n",
       "      <td>2.909403e+09</td>\n",
       "      <td>1.0</td>\n",
       "      <td>1.183594</td>\n",
       "      <td>0.524902</td>\n",
       "      <td>1.183594</td>\n",
       "      <td>0.524902</td>\n",
       "      <td>0.036011</td>\n",
       "      <td>...</td>\n",
       "      <td>1975.0</td>\n",
       "      <td>1975.0</td>\n",
       "      <td>445.0</td>\n",
       "      <td>-999.0</td>\n",
       "      <td>445.0</td>\n",
       "      <td>601.0</td>\n",
       "      <td>-999.0</td>\n",
       "      <td>1.0</td>\n",
       "      <td>0.0</td>\n",
       "      <td>0</td>\n",
       "    </tr>\n",
       "    <tr>\n",
       "      <td>1713363</td>\n",
       "      <td>2913489</td>\n",
       "      <td>30.0</td>\n",
       "      <td>26.0</td>\n",
       "      <td>3.002601e+09</td>\n",
       "      <td>1.0</td>\n",
       "      <td>1.907227</td>\n",
       "      <td>0.672852</td>\n",
       "      <td>1.907227</td>\n",
       "      <td>0.672852</td>\n",
       "      <td>0.050995</td>\n",
       "      <td>...</td>\n",
       "      <td>1978.0</td>\n",
       "      <td>1978.0</td>\n",
       "      <td>138.0</td>\n",
       "      <td>-999.0</td>\n",
       "      <td>292.0</td>\n",
       "      <td>324.0</td>\n",
       "      <td>2.0</td>\n",
       "      <td>1.0</td>\n",
       "      <td>0.0</td>\n",
       "      <td>1</td>\n",
       "    </tr>\n",
       "    <tr>\n",
       "      <td>1315764</td>\n",
       "      <td>12155550</td>\n",
       "      <td>8.0</td>\n",
       "      <td>296.0</td>\n",
       "      <td>8.295010e+08</td>\n",
       "      <td>1.0</td>\n",
       "      <td>2.388672</td>\n",
       "      <td>0.890137</td>\n",
       "      <td>2.388672</td>\n",
       "      <td>0.890137</td>\n",
       "      <td>0.041992</td>\n",
       "      <td>...</td>\n",
       "      <td>1999.0</td>\n",
       "      <td>1999.0</td>\n",
       "      <td>219.0</td>\n",
       "      <td>-999.0</td>\n",
       "      <td>219.0</td>\n",
       "      <td>820.0</td>\n",
       "      <td>0.0</td>\n",
       "      <td>1.0</td>\n",
       "      <td>0.0</td>\n",
       "      <td>1</td>\n",
       "    </tr>\n",
       "    <tr>\n",
       "      <td>1028251</td>\n",
       "      <td>4090983</td>\n",
       "      <td>30.0</td>\n",
       "      <td>30.0</td>\n",
       "      <td>3.003005e+09</td>\n",
       "      <td>0.0</td>\n",
       "      <td>-999.000000</td>\n",
       "      <td>-999.000000</td>\n",
       "      <td>2.275391</td>\n",
       "      <td>0.674805</td>\n",
       "      <td>-999.000000</td>\n",
       "      <td>...</td>\n",
       "      <td>0.0</td>\n",
       "      <td>1986.0</td>\n",
       "      <td>-999.0</td>\n",
       "      <td>-999.0</td>\n",
       "      <td>1362.0</td>\n",
       "      <td>11044.0</td>\n",
       "      <td>2.0</td>\n",
       "      <td>0.0</td>\n",
       "      <td>0.0</td>\n",
       "      <td>1</td>\n",
       "    </tr>\n",
       "    <tr>\n",
       "      <td>1436621</td>\n",
       "      <td>6148124</td>\n",
       "      <td>30.0</td>\n",
       "      <td>13.0</td>\n",
       "      <td>3.001301e+09</td>\n",
       "      <td>0.0</td>\n",
       "      <td>-999.000000</td>\n",
       "      <td>-999.000000</td>\n",
       "      <td>2.265625</td>\n",
       "      <td>0.892090</td>\n",
       "      <td>-999.000000</td>\n",
       "      <td>...</td>\n",
       "      <td>1960.0</td>\n",
       "      <td>1960.0</td>\n",
       "      <td>-999.0</td>\n",
       "      <td>-999.0</td>\n",
       "      <td>522.0</td>\n",
       "      <td>202.0</td>\n",
       "      <td>2.0</td>\n",
       "      <td>0.0</td>\n",
       "      <td>0.0</td>\n",
       "      <td>1</td>\n",
       "    </tr>\n",
       "  </tbody>\n",
       "</table>\n",
       "<p>5 rows × 88 columns</p>\n",
       "</div>"
      ],
      "text/plain": [
       "         cartodb_id  codigo_delegacion_meh  codigo_municipio_dgc  \\\n",
       "722596      6994266                   29.0                  94.0   \n",
       "1713363     2913489                   30.0                  26.0   \n",
       "1315764    12155550                    8.0                 296.0   \n",
       "1028251     4090983                   30.0                  30.0   \n",
       "1436621     6148124                   30.0                  13.0   \n",
       "\n",
       "                sc_17  n_viv_inm         p_t         hog   p_t_viv   hog_viv  \\\n",
       "722596   2.909403e+09        1.0    1.183594    0.524902  1.183594  0.524902   \n",
       "1713363  3.002601e+09        1.0    1.907227    0.672852  1.907227  0.672852   \n",
       "1315764  8.295010e+08        1.0    2.388672    0.890137  2.388672  0.890137   \n",
       "1028251  3.003005e+09        0.0 -999.000000 -999.000000  2.275391  0.674805   \n",
       "1436621  3.001301e+09        0.0 -999.000000 -999.000000  2.265625  0.892090   \n",
       "\n",
       "         p_ed_00_04_h  ...  anyo_antiguedad_inm_min  anyo_antiguedad_inm_max  \\\n",
       "722596       0.036011  ...                   1975.0                   1975.0   \n",
       "1713363      0.050995  ...                   1978.0                   1978.0   \n",
       "1315764      0.041992  ...                   1999.0                   1999.0   \n",
       "1028251   -999.000000  ...                      0.0                   1986.0   \n",
       "1436621   -999.000000  ...                   1960.0                   1960.0   \n",
       "\n",
       "         sup_viv_inm  n_com_inm  superficie_construida_m2_inm  \\\n",
       "722596         445.0     -999.0                         445.0   \n",
       "1713363        138.0     -999.0                         292.0   \n",
       "1315764        219.0     -999.0                         219.0   \n",
       "1028251       -999.0     -999.0                        1362.0   \n",
       "1436621       -999.0     -999.0                         522.0   \n",
       "\n",
       "         superficie_asociada_m2_inm  planta_max  n_viv_unif_inm  \\\n",
       "722596                        601.0      -999.0             1.0   \n",
       "1713363                       324.0         2.0             1.0   \n",
       "1315764                       820.0         0.0             1.0   \n",
       "1028251                     11044.0         2.0             0.0   \n",
       "1436621                       202.0         2.0             0.0   \n",
       "\n",
       "         n_viv_linea_cons_tipol  target  \n",
       "722596                      0.0       0  \n",
       "1713363                     0.0       1  \n",
       "1315764                     0.0       1  \n",
       "1028251                     0.0       1  \n",
       "1436621                     0.0       1  \n",
       "\n",
       "[5 rows x 88 columns]"
      ]
     },
     "execution_count": 63,
     "metadata": {},
     "output_type": "execute_result"
    }
   ],
   "source": [
    "X_train.head()"
   ]
  },
  {
   "cell_type": "code",
   "execution_count": 64,
   "metadata": {},
   "outputs": [
    {
     "data": {
      "text/plain": [
       "<matplotlib.axes._subplots.AxesSubplot at 0x7f9882ed32b0>"
      ]
     },
     "execution_count": 64,
     "metadata": {},
     "output_type": "execute_result"
    },
    {
     "data": {
      "image/png": "[encoded data removed]",
      "text/plain": [
       "<Figure size 432x288 with 1 Axes>"
      ]
     },
     "metadata": {
      "needs_background": "light"
     },
     "output_type": "display_data"
    }
   ],
   "source": [
    "sns.countplot(x='target',data=X_train)"
   ]
  },
  {
   "cell_type": "code",
   "execution_count": 65,
   "metadata": {},
   "outputs": [
    {
     "data": {
      "text/plain": [
       "<matplotlib.axes._subplots.AxesSubplot at 0x7f985130c0b8>"
      ]
     },
     "execution_count": 65,
     "metadata": {},
     "output_type": "execute_result"
    },
    {
     "data": {
      "image/png": "[encoded data removed]",
      "text/plain": [
       "<Figure size 432x288 with 1 Axes>"
      ]
     },
     "metadata": {
      "needs_background": "light"
     },
     "output_type": "display_data"
    }
   ],
   "source": [
    "sns.countplot(x='target',data=X_test)"
   ]
  },
  {
   "cell_type": "markdown",
   "metadata": {},
   "source": [
    "We keep the proportion!"
   ]
  },
  {
   "cell_type": "code",
   "execution_count": 57,
   "metadata": {},
   "outputs": [
    {
     "data": {
      "text/plain": [
       "22"
      ]
     },
     "execution_count": 57,
     "metadata": {},
     "output_type": "execute_result"
    }
   ],
   "source": [
    "del data\n",
    "gc.collect()"
   ]
  },
  {
   "cell_type": "code",
   "execution_count": 53,
   "metadata": {},
   "outputs": [
    {
     "data": {
      "text/plain": [
       "KNeighborsClassifier(algorithm='auto', leaf_size=30, metric='minkowski',\n",
       "                     metric_params=None, n_jobs=None, n_neighbors=3, p=2,\n",
       "                     weights='uniform')"
      ]
     },
     "execution_count": 53,
     "metadata": {},
     "output_type": "execute_result"
    }
   ],
   "source": [
    "from sklearn.neighbors import KNeighborsClassifier# Create KNN classifier\n",
    "knn = KNeighborsClassifier(n_neighbors = 3)# Fit the classifier to the data\n",
    "knn.fit(X_train,y_train)"
   ]
  },
  {
   "cell_type": "code",
   "execution_count": 60,
   "metadata": {},
   "outputs": [],
   "source": [
    "pred = knn.predict(X_test)"
   ]
  },
  {
   "cell_type": "code",
   "execution_count": 61,
   "metadata": {},
   "outputs": [
    {
     "data": {
      "text/plain": [
       "0.9935566476609962"
      ]
     },
     "execution_count": 61,
     "metadata": {},
     "output_type": "execute_result"
    }
   ],
   "source": [
    "roc_auc_score(y_test, pred)"
   ]
  },
  {
   "cell_type": "code",
   "execution_count": 62,
   "metadata": {},
   "outputs": [
    {
     "data": {
      "text/plain": [
       "0.9936896710338761"
      ]
     },
     "execution_count": 62,
     "metadata": {},
     "output_type": "execute_result"
    }
   ],
   "source": [
    "#check accuracy of our model on the test data\n",
    "knn.score(X_test, y_test)"
   ]
  },
  {
   "cell_type": "markdown",
   "metadata": {},
   "source": [
    "### KFold 5\n",
    "> should be using **X** and **y** where ```X= data without target``` and ```y=target```, but I deleted data at the cell 57... memory problems u know."
   ]
  },
  {
   "cell_type": "code",
   "execution_count": 66,
   "metadata": {},
   "outputs": [
    {
     "name": "stdout",
     "output_type": "stream",
     "text": [
      "[0.9928829  0.99293534 0.99301779 0.99271422 0.99299156]\n",
      "cv_scores mean:0.9929083596246955\n"
     ]
    }
   ],
   "source": [
    "knn_cv = KNeighborsClassifier(n_neighbors=3)#train model with cv of 5 \n",
    "cv_scores = cross_val_score(knn_cv, X_train, y_train, cv=5)#print each cv score (accuracy) and average them\n",
    "print(cv_scores)\n",
    "print('cv_scores mean:{}'.format(np.mean(cv_scores)))"
   ]
  },
  {
   "cell_type": "markdown",
   "metadata": {},
   "source": [
    "this is disgusting..."
   ]
  },
  {
   "cell_type": "code",
   "execution_count": null,
   "metadata": {},
   "outputs": [],
   "source": []
  }
 ],
 "metadata": {
  "kernelspec": {
   "display_name": "Python 3",
   "language": "python",
   "name": "python3"
  },
  "language_info": {
   "codemirror_mode": {
    "name": "ipython",
    "version": 3
   },
   "file_extension": ".py",
   "mimetype": "text/x-python",
   "name": "python",
   "nbconvert_exporter": "python",
   "pygments_lexer": "ipython3",
   "version": "3.7.3"
  }
 },
 "nbformat": 4,
 "nbformat_minor": 1
}
